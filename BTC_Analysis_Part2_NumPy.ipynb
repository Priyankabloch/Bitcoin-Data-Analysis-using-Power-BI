{
 "cells": [
  {
   "cell_type": "markdown",
   "id": "205e5c67",
   "metadata": {},
   "source": [
    "# 🔢 NumPy Operations\n",
    "\n",
    "This section covers basic to intermediate operations using the NumPy library for numerical computation.\n"
   ]
  },
  {
   "cell_type": "code",
   "execution_count": 1,
   "id": "9a9e75e8",
   "metadata": {},
   "outputs": [],
   "source": [
    "import pandas as pd\n",
    "import numpy as np\n",
    "\n",
    "# Load your dataset\n",
    "df = pd.read_csv(\"btc_15m_data_2018_to_2025.csv\")\n"
   ]
  },
  {
   "cell_type": "code",
   "execution_count": null,
   "id": "f291529f",
   "metadata": {},
   "outputs": [],
   "source": []
  },
  {
   "cell_type": "code",
   "execution_count": 2,
   "id": "df9b8bd0",
   "metadata": {},
   "outputs": [
    {
     "name": "stdout",
     "output_type": "stream",
     "text": [
      "Column 'close' not found.\n"
     ]
    }
   ],
   "source": [
    "# Check and extract 'close' column\n",
    "if 'close' in df.columns:\n",
    "    close_prices = df['close'].values\n",
    "    print(\"First 10 Close Prices:\", close_prices[:10])\n",
    "else:\n",
    "    print(\"Column 'close' not found.\")\n",
    "\n"
   ]
  },
  {
   "cell_type": "code",
   "execution_count": 3,
   "id": "553762de",
   "metadata": {},
   "outputs": [],
   "source": [
    "# Basic statistics using NumPy\n",
    "if 'close' in df.columns:\n",
    "    print(\"Mean:\", np.mean(close_prices))\n",
    "    print(\"Median:\", np.median(close_prices))\n",
    "    print(\"Standard Deviation:\", np.std(close_prices))\n",
    "    print(\"Max:\", np.max(close_prices))\n",
    "    print(\"Min:\", np.min(close_prices))\n"
   ]
  },
  {
   "cell_type": "code",
   "execution_count": 4,
   "id": "d229aecd",
   "metadata": {},
   "outputs": [
    {
     "name": "stdout",
     "output_type": "stream",
     "text": [
      "Arange Array: [ 1  2  3  4  5  6  7  8  9 10]\n",
      "Linspace Array: [0.   0.25 0.5  0.75 1.  ]\n"
     ]
    }
   ],
   "source": [
    "# Creating custom NumPy arrays\n",
    "a = np.arange(1, 11)\n",
    "b = np.linspace(0, 1, 5)\n",
    "print(\"Arange Array:\", a)\n",
    "print(\"Linspace Array:\", b)\n"
   ]
  },
  {
   "cell_type": "code",
   "execution_count": 5,
   "id": "848cf53c",
   "metadata": {},
   "outputs": [
    {
     "name": "stdout",
     "output_type": "stream",
     "text": [
      "Squared Array: [  1   4   9  16  25  36  49  64  81 100]\n"
     ]
    }
   ],
   "source": [
    "# Vectorized operations\n",
    "a_squared = a ** 2\n",
    "print(\"Squared Array:\", a_squared)\n"
   ]
  },
  {
   "cell_type": "code",
   "execution_count": 7,
   "id": "c3646872",
   "metadata": {},
   "outputs": [
    {
     "name": "stdout",
     "output_type": "stream",
     "text": [
      "Average Price: 31000.0\n",
      "High Prices above average: [33000 35000]\n",
      "Number of high prices above average: 2\n"
     ]
    }
   ],
   "source": [
    "# Example close prices array\n",
    "close_prices = np.array([29000, 31000, 28000, 33000, 35000, 30000])\n",
    "\n",
    "# Calculate mean\n",
    "mean_price = np.mean(close_prices)\n",
    "\n",
    "# Boolean indexing to find high prices above average\n",
    "high_prices = close_prices[close_prices > mean_price]\n",
    "\n",
    "print(\"Average Price:\", mean_price)\n",
    "print(\"High Prices above average:\", high_prices)\n",
    "print(\"Number of high prices above average:\", len(high_prices))\n"
   ]
  },
  {
   "cell_type": "code",
   "execution_count": 8,
   "id": "fbc8b304",
   "metadata": {},
   "outputs": [
    {
     "name": "stdout",
     "output_type": "stream",
     "text": [
      "Number of high prices above average: 2\n"
     ]
    }
   ],
   "source": [
    "# Example: Boolean indexing\n",
    "high_prices = close_prices[close_prices > np.mean(close_prices)]\n",
    "print(\"Number of high prices above average:\", len(high_prices))\n"
   ]
  },
  {
   "cell_type": "code",
   "execution_count": 9,
   "id": "c8b552df",
   "metadata": {},
   "outputs": [
    {
     "name": "stdout",
     "output_type": "stream",
     "text": [
      "Mean price: 31000.0\n",
      "Median price: 30500.0\n",
      "Standard deviation: 2380.4761428476168\n",
      "Min price: 28000\n",
      "Max price: 35000\n"
     ]
    }
   ],
   "source": [
    "print(\"Mean price:\", np.mean(close_prices))\n",
    "print(\"Median price:\", np.median(close_prices))\n",
    "print(\"Standard deviation:\", np.std(close_prices))\n",
    "print(\"Min price:\", np.min(close_prices))\n",
    "print(\"Max price:\", np.max(close_prices))\n"
   ]
  },
  {
   "cell_type": "code",
   "execution_count": 10,
   "id": "179fdb25",
   "metadata": {},
   "outputs": [
    {
     "name": "stdout",
     "output_type": "stream",
     "text": [
      "Price changes: [ 2000 -3000  5000  2000 -5000]\n"
     ]
    }
   ],
   "source": [
    "price_diff = np.diff(close_prices)\n",
    "print(\"Price changes:\", price_diff)\n"
   ]
  },
  {
   "cell_type": "code",
   "execution_count": 11,
   "id": "21cbc83f",
   "metadata": {},
   "outputs": [
    {
     "name": "stdout",
     "output_type": "stream",
     "text": [
      "Percentage changes: [  6.89655172  -9.67741935  17.85714286   6.06060606 -14.28571429]\n"
     ]
    }
   ],
   "source": [
    "pct_change = np.diff(close_prices) / close_prices[:-1] * 100\n",
    "print(\"Percentage changes:\", pct_change)\n"
   ]
  },
  {
   "cell_type": "code",
   "execution_count": 12,
   "id": "e0bb30c0",
   "metadata": {},
   "outputs": [
    {
     "name": "stdout",
     "output_type": "stream",
     "text": [
      "Prices below 20,000: []\n"
     ]
    }
   ],
   "source": [
    "low_prices = close_prices[close_prices < 20000]\n",
    "print(\"Prices below 20,000:\", low_prices)\n"
   ]
  },
  {
   "cell_type": "code",
   "execution_count": 14,
   "id": "d7b9d103",
   "metadata": {},
   "outputs": [
    {
     "name": "stdout",
     "output_type": "stream",
     "text": [
      "Outlier prices: []\n"
     ]
    }
   ],
   "source": [
    "z_scores = (close_prices - np.mean(close_prices)) / np.std(close_prices)\n",
    "outliers = close_prices[np.abs(z_scores) > 2]  # values more than 2 std devs away\n",
    "print(\"Outlier prices:\", outliers)\n"
   ]
  },
  {
   "cell_type": "code",
   "execution_count": 15,
   "id": "03990135",
   "metadata": {},
   "outputs": [
    {
     "name": "stdout",
     "output_type": "stream",
     "text": [
      "Sorted Prices: [28000 29000 30000 31000 33000 35000]\n"
     ]
    }
   ],
   "source": [
    "sorted_prices = np.sort(close_prices)\n",
    "print(\"Sorted Prices:\", sorted_prices)\n"
   ]
  }
 ],
 "metadata": {
  "kernelspec": {
   "display_name": "Python 3",
   "language": "python",
   "name": "python3"
  },
  "language_info": {
   "codemirror_mode": {
    "name": "ipython",
    "version": 3
   },
   "file_extension": ".py",
   "mimetype": "text/x-python",
   "name": "python",
   "nbconvert_exporter": "python",
   "pygments_lexer": "ipython3",
   "version": "3.12.2"
  }
 },
 "nbformat": 4,
 "nbformat_minor": 5
}
