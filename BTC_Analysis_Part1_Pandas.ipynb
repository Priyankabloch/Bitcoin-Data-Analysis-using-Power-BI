{
 "cells": [
  {
   "cell_type": "markdown",
   "id": "55b8d3c4",
   "metadata": {},
   "source": [
    "# 📘 BTC Dataset Analysis using Pandas\n",
    "\n",
    "This notebook contains initial data analysis using the Pandas library.  \n",
    "Make sure the file `btc_15m_data_2018_to_2025.csv` is in the same directory.\n"
   ]
  },
  {
   "cell_type": "code",
   "execution_count": 5,
   "id": "450e545c",
   "metadata": {},
   "outputs": [],
   "source": [
    "# Importing pandas\n",
    "import pandas as pd\n"
   ]
  },
  {
   "cell_type": "code",
   "execution_count": 6,
   "id": "fd311343",
   "metadata": {},
   "outputs": [],
   "source": [
    "# Load the dataset\n",
    "df = pd.read_csv(\"btc_15m_data_2018_to_2025.csv\")\n"
   ]
  },
  {
   "cell_type": "code",
   "execution_count": 7,
   "id": "4f42367b",
   "metadata": {},
   "outputs": [
    {
     "name": "stdout",
     "output_type": "stream",
     "text": [
      "First 5 rows:\n"
     ]
    },
    {
     "data": {
      "text/html": [
       "<div>\n",
       "<style scoped>\n",
       "    .dataframe tbody tr th:only-of-type {\n",
       "        vertical-align: middle;\n",
       "    }\n",
       "\n",
       "    .dataframe tbody tr th {\n",
       "        vertical-align: top;\n",
       "    }\n",
       "\n",
       "    .dataframe thead th {\n",
       "        text-align: right;\n",
       "    }\n",
       "</style>\n",
       "<table border=\"1\" class=\"dataframe\">\n",
       "  <thead>\n",
       "    <tr style=\"text-align: right;\">\n",
       "      <th></th>\n",
       "      <th>Open time</th>\n",
       "      <th>Open</th>\n",
       "      <th>High</th>\n",
       "      <th>Low</th>\n",
       "      <th>Close</th>\n",
       "      <th>Volume</th>\n",
       "      <th>Close time</th>\n",
       "      <th>Quote asset volume</th>\n",
       "      <th>Number of trades</th>\n",
       "      <th>Taker buy base asset volume</th>\n",
       "      <th>Taker buy quote asset volume</th>\n",
       "      <th>Ignore</th>\n",
       "    </tr>\n",
       "  </thead>\n",
       "  <tbody>\n",
       "    <tr>\n",
       "      <th>0</th>\n",
       "      <td>2018-01-01 00:00:00</td>\n",
       "      <td>13715.65</td>\n",
       "      <td>13715.65</td>\n",
       "      <td>13400.01</td>\n",
       "      <td>13556.15</td>\n",
       "      <td>123.616013</td>\n",
       "      <td>2018-01-01 00:14:59.999</td>\n",
       "      <td>1.675545e+06</td>\n",
       "      <td>1572</td>\n",
       "      <td>63.227133</td>\n",
       "      <td>8.576108e+05</td>\n",
       "      <td>0</td>\n",
       "    </tr>\n",
       "    <tr>\n",
       "      <th>1</th>\n",
       "      <td>2018-01-01 00:15:00</td>\n",
       "      <td>13533.75</td>\n",
       "      <td>13550.87</td>\n",
       "      <td>13402.00</td>\n",
       "      <td>13521.12</td>\n",
       "      <td>98.136430</td>\n",
       "      <td>2018-01-01 00:29:59.999</td>\n",
       "      <td>1.321757e+06</td>\n",
       "      <td>1461</td>\n",
       "      <td>47.686389</td>\n",
       "      <td>6.422812e+05</td>\n",
       "      <td>0</td>\n",
       "    </tr>\n",
       "    <tr>\n",
       "      <th>2</th>\n",
       "      <td>2018-01-01 00:30:00</td>\n",
       "      <td>13500.00</td>\n",
       "      <td>13545.37</td>\n",
       "      <td>13450.00</td>\n",
       "      <td>13470.41</td>\n",
       "      <td>79.904037</td>\n",
       "      <td>2018-01-01 00:44:59.999</td>\n",
       "      <td>1.078825e+06</td>\n",
       "      <td>1000</td>\n",
       "      <td>43.710406</td>\n",
       "      <td>5.900347e+05</td>\n",
       "      <td>0</td>\n",
       "    </tr>\n",
       "    <tr>\n",
       "      <th>3</th>\n",
       "      <td>2018-01-01 00:45:00</td>\n",
       "      <td>13494.65</td>\n",
       "      <td>13690.87</td>\n",
       "      <td>13450.00</td>\n",
       "      <td>13529.01</td>\n",
       "      <td>141.699719</td>\n",
       "      <td>2018-01-01 00:59:59.999</td>\n",
       "      <td>1.917783e+06</td>\n",
       "      <td>1195</td>\n",
       "      <td>73.897993</td>\n",
       "      <td>1.000614e+06</td>\n",
       "      <td>0</td>\n",
       "    </tr>\n",
       "    <tr>\n",
       "      <th>4</th>\n",
       "      <td>2018-01-01 01:00:00</td>\n",
       "      <td>13528.99</td>\n",
       "      <td>13571.74</td>\n",
       "      <td>13402.28</td>\n",
       "      <td>13445.63</td>\n",
       "      <td>72.537533</td>\n",
       "      <td>2018-01-01 01:14:59.999</td>\n",
       "      <td>9.778198e+05</td>\n",
       "      <td>898</td>\n",
       "      <td>34.257652</td>\n",
       "      <td>4.618369e+05</td>\n",
       "      <td>0</td>\n",
       "    </tr>\n",
       "  </tbody>\n",
       "</table>\n",
       "</div>"
      ],
      "text/plain": [
       "             Open time      Open      High       Low     Close      Volume  \\\n",
       "0  2018-01-01 00:00:00  13715.65  13715.65  13400.01  13556.15  123.616013   \n",
       "1  2018-01-01 00:15:00  13533.75  13550.87  13402.00  13521.12   98.136430   \n",
       "2  2018-01-01 00:30:00  13500.00  13545.37  13450.00  13470.41   79.904037   \n",
       "3  2018-01-01 00:45:00  13494.65  13690.87  13450.00  13529.01  141.699719   \n",
       "4  2018-01-01 01:00:00  13528.99  13571.74  13402.28  13445.63   72.537533   \n",
       "\n",
       "                Close time  Quote asset volume  Number of trades  \\\n",
       "0  2018-01-01 00:14:59.999        1.675545e+06              1572   \n",
       "1  2018-01-01 00:29:59.999        1.321757e+06              1461   \n",
       "2  2018-01-01 00:44:59.999        1.078825e+06              1000   \n",
       "3  2018-01-01 00:59:59.999        1.917783e+06              1195   \n",
       "4  2018-01-01 01:14:59.999        9.778198e+05               898   \n",
       "\n",
       "   Taker buy base asset volume  Taker buy quote asset volume  Ignore  \n",
       "0                    63.227133                  8.576108e+05       0  \n",
       "1                    47.686389                  6.422812e+05       0  \n",
       "2                    43.710406                  5.900347e+05       0  \n",
       "3                    73.897993                  1.000614e+06       0  \n",
       "4                    34.257652                  4.618369e+05       0  "
      ]
     },
     "execution_count": 7,
     "metadata": {},
     "output_type": "execute_result"
    }
   ],
   "source": [
    "# Display the first 5 rows\n",
    "print(\"First 5 rows:\")\n",
    "df.head()\n"
   ]
  },
  {
   "cell_type": "code",
   "execution_count": 8,
   "id": "460e29dd",
   "metadata": {},
   "outputs": [
    {
     "name": "stdout",
     "output_type": "stream",
     "text": [
      "\n",
      "Info:\n",
      "<class 'pandas.core.frame.DataFrame'>\n",
      "RangeIndex: 251565 entries, 0 to 251564\n",
      "Data columns (total 12 columns):\n",
      " #   Column                        Non-Null Count   Dtype  \n",
      "---  ------                        --------------   -----  \n",
      " 0   Open time                     251565 non-null  object \n",
      " 1   Open                          251565 non-null  float64\n",
      " 2   High                          251565 non-null  float64\n",
      " 3   Low                           251565 non-null  float64\n",
      " 4   Close                         251565 non-null  float64\n",
      " 5   Volume                        251565 non-null  float64\n",
      " 6   Close time                    251565 non-null  object \n",
      " 7   Quote asset volume            251565 non-null  float64\n",
      " 8   Number of trades              251565 non-null  int64  \n",
      " 9   Taker buy base asset volume   251565 non-null  float64\n",
      " 10  Taker buy quote asset volume  251565 non-null  float64\n",
      " 11  Ignore                        251565 non-null  int64  \n",
      "dtypes: float64(8), int64(2), object(2)\n",
      "memory usage: 23.0+ MB\n"
     ]
    }
   ],
   "source": [
    "# Dataset structure\n",
    "print(\"\\nInfo:\")\n",
    "df.info()\n"
   ]
  },
  {
   "cell_type": "code",
   "execution_count": 9,
   "id": "e5cca2cc",
   "metadata": {},
   "outputs": [
    {
     "name": "stdout",
     "output_type": "stream",
     "text": [
      "\n",
      "Shape:\n",
      "(251565, 12)\n"
     ]
    }
   ],
   "source": [
    "# Shape of the dataset\n",
    "print(\"\\nShape:\")\n",
    "print(df.shape)\n"
   ]
  },
  {
   "cell_type": "code",
   "execution_count": 10,
   "id": "9db21c9a",
   "metadata": {},
   "outputs": [
    {
     "name": "stdout",
     "output_type": "stream",
     "text": [
      "\n",
      "Summary Statistics:\n"
     ]
    },
    {
     "data": {
      "text/html": [
       "<div>\n",
       "<style scoped>\n",
       "    .dataframe tbody tr th:only-of-type {\n",
       "        vertical-align: middle;\n",
       "    }\n",
       "\n",
       "    .dataframe tbody tr th {\n",
       "        vertical-align: top;\n",
       "    }\n",
       "\n",
       "    .dataframe thead th {\n",
       "        text-align: right;\n",
       "    }\n",
       "</style>\n",
       "<table border=\"1\" class=\"dataframe\">\n",
       "  <thead>\n",
       "    <tr style=\"text-align: right;\">\n",
       "      <th></th>\n",
       "      <th>Open</th>\n",
       "      <th>High</th>\n",
       "      <th>Low</th>\n",
       "      <th>Close</th>\n",
       "      <th>Volume</th>\n",
       "      <th>Quote asset volume</th>\n",
       "      <th>Number of trades</th>\n",
       "      <th>Taker buy base asset volume</th>\n",
       "      <th>Taker buy quote asset volume</th>\n",
       "      <th>Ignore</th>\n",
       "    </tr>\n",
       "  </thead>\n",
       "  <tbody>\n",
       "    <tr>\n",
       "      <th>count</th>\n",
       "      <td>251565.000000</td>\n",
       "      <td>251565.000000</td>\n",
       "      <td>251565.000000</td>\n",
       "      <td>251565.000000</td>\n",
       "      <td>251565.000000</td>\n",
       "      <td>2.515650e+05</td>\n",
       "      <td>251565.000000</td>\n",
       "      <td>251565.000000</td>\n",
       "      <td>2.515650e+05</td>\n",
       "      <td>251565.0</td>\n",
       "    </tr>\n",
       "    <tr>\n",
       "      <th>mean</th>\n",
       "      <td>29871.550310</td>\n",
       "      <td>29937.515454</td>\n",
       "      <td>29803.018597</td>\n",
       "      <td>29871.809704</td>\n",
       "      <td>735.271512</td>\n",
       "      <td>1.918369e+07</td>\n",
       "      <td>18657.011468</td>\n",
       "      <td>365.416109</td>\n",
       "      <td>9.493153e+06</td>\n",
       "      <td>0.0</td>\n",
       "    </tr>\n",
       "    <tr>\n",
       "      <th>std</th>\n",
       "      <td>24435.713547</td>\n",
       "      <td>24483.846788</td>\n",
       "      <td>24385.681744</td>\n",
       "      <td>24435.899559</td>\n",
       "      <td>1126.132082</td>\n",
       "      <td>2.939558e+07</td>\n",
       "      <td>27629.645293</td>\n",
       "      <td>561.784989</td>\n",
       "      <td>1.472444e+07</td>\n",
       "      <td>0.0</td>\n",
       "    </tr>\n",
       "    <tr>\n",
       "      <th>min</th>\n",
       "      <td>3166.110000</td>\n",
       "      <td>3174.780000</td>\n",
       "      <td>3156.260000</td>\n",
       "      <td>3167.070000</td>\n",
       "      <td>0.000000</td>\n",
       "      <td>0.000000e+00</td>\n",
       "      <td>0.000000</td>\n",
       "      <td>0.000000</td>\n",
       "      <td>0.000000e+00</td>\n",
       "      <td>0.0</td>\n",
       "    </tr>\n",
       "    <tr>\n",
       "      <th>25%</th>\n",
       "      <td>9124.480000</td>\n",
       "      <td>9141.860000</td>\n",
       "      <td>9105.000000</td>\n",
       "      <td>9124.620000</td>\n",
       "      <td>217.743913</td>\n",
       "      <td>3.265220e+06</td>\n",
       "      <td>3948.000000</td>\n",
       "      <td>107.485850</td>\n",
       "      <td>1.602818e+06</td>\n",
       "      <td>0.0</td>\n",
       "    </tr>\n",
       "    <tr>\n",
       "      <th>50%</th>\n",
       "      <td>23091.650000</td>\n",
       "      <td>23137.800000</td>\n",
       "      <td>23045.000000</td>\n",
       "      <td>23091.410000</td>\n",
       "      <td>385.069770</td>\n",
       "      <td>9.248147e+06</td>\n",
       "      <td>9031.000000</td>\n",
       "      <td>192.079039</td>\n",
       "      <td>4.449522e+06</td>\n",
       "      <td>0.0</td>\n",
       "    </tr>\n",
       "    <tr>\n",
       "      <th>75%</th>\n",
       "      <td>44164.460000</td>\n",
       "      <td>44261.500000</td>\n",
       "      <td>44065.430000</td>\n",
       "      <td>44164.290000</td>\n",
       "      <td>763.098920</td>\n",
       "      <td>2.360040e+07</td>\n",
       "      <td>20570.000000</td>\n",
       "      <td>380.316571</td>\n",
       "      <td>1.164327e+07</td>\n",
       "      <td>0.0</td>\n",
       "    </tr>\n",
       "    <tr>\n",
       "      <th>max</th>\n",
       "      <td>108975.430000</td>\n",
       "      <td>109588.000000</td>\n",
       "      <td>108185.270000</td>\n",
       "      <td>108975.420000</td>\n",
       "      <td>40371.405060</td>\n",
       "      <td>8.961201e+08</td>\n",
       "      <td>606234.000000</td>\n",
       "      <td>19925.616600</td>\n",
       "      <td>5.619115e+08</td>\n",
       "      <td>0.0</td>\n",
       "    </tr>\n",
       "  </tbody>\n",
       "</table>\n",
       "</div>"
      ],
      "text/plain": [
       "                Open           High            Low          Close  \\\n",
       "count  251565.000000  251565.000000  251565.000000  251565.000000   \n",
       "mean    29871.550310   29937.515454   29803.018597   29871.809704   \n",
       "std     24435.713547   24483.846788   24385.681744   24435.899559   \n",
       "min      3166.110000    3174.780000    3156.260000    3167.070000   \n",
       "25%      9124.480000    9141.860000    9105.000000    9124.620000   \n",
       "50%     23091.650000   23137.800000   23045.000000   23091.410000   \n",
       "75%     44164.460000   44261.500000   44065.430000   44164.290000   \n",
       "max    108975.430000  109588.000000  108185.270000  108975.420000   \n",
       "\n",
       "              Volume  Quote asset volume  Number of trades  \\\n",
       "count  251565.000000        2.515650e+05     251565.000000   \n",
       "mean      735.271512        1.918369e+07      18657.011468   \n",
       "std      1126.132082        2.939558e+07      27629.645293   \n",
       "min         0.000000        0.000000e+00          0.000000   \n",
       "25%       217.743913        3.265220e+06       3948.000000   \n",
       "50%       385.069770        9.248147e+06       9031.000000   \n",
       "75%       763.098920        2.360040e+07      20570.000000   \n",
       "max     40371.405060        8.961201e+08     606234.000000   \n",
       "\n",
       "       Taker buy base asset volume  Taker buy quote asset volume    Ignore  \n",
       "count                251565.000000                  2.515650e+05  251565.0  \n",
       "mean                    365.416109                  9.493153e+06       0.0  \n",
       "std                     561.784989                  1.472444e+07       0.0  \n",
       "min                       0.000000                  0.000000e+00       0.0  \n",
       "25%                     107.485850                  1.602818e+06       0.0  \n",
       "50%                     192.079039                  4.449522e+06       0.0  \n",
       "75%                     380.316571                  1.164327e+07       0.0  \n",
       "max                   19925.616600                  5.619115e+08       0.0  "
      ]
     },
     "execution_count": 10,
     "metadata": {},
     "output_type": "execute_result"
    }
   ],
   "source": [
    "# Summary statistics\n",
    "print(\"\\nSummary Statistics:\")\n",
    "df.describe()\n"
   ]
  },
  {
   "cell_type": "code",
   "execution_count": 11,
   "id": "d58bfc52",
   "metadata": {},
   "outputs": [
    {
     "name": "stdout",
     "output_type": "stream",
     "text": [
      "\n",
      "Missing values:\n",
      "Open time                       0\n",
      "Open                            0\n",
      "High                            0\n",
      "Low                             0\n",
      "Close                           0\n",
      "Volume                          0\n",
      "Close time                      0\n",
      "Quote asset volume              0\n",
      "Number of trades                0\n",
      "Taker buy base asset volume     0\n",
      "Taker buy quote asset volume    0\n",
      "Ignore                          0\n",
      "dtype: int64\n"
     ]
    }
   ],
   "source": [
    "# Checking for missing values\n",
    "print(\"\\nMissing values:\")\n",
    "print(df.isnull().sum())\n"
   ]
  },
  {
   "cell_type": "code",
   "execution_count": 12,
   "id": "2aedd9b3",
   "metadata": {},
   "outputs": [
    {
     "data": {
      "text/plain": [
       "0"
      ]
     },
     "execution_count": 12,
     "metadata": {},
     "output_type": "execute_result"
    }
   ],
   "source": [
    "#Check Duplicate values\n",
    "df.duplicated().sum()"
   ]
  },
  {
   "cell_type": "code",
   "execution_count": 13,
   "id": "b0cb1d3b",
   "metadata": {},
   "outputs": [
    {
     "name": "stdout",
     "output_type": "stream",
     "text": [
      "\n",
      "Column Names:\n",
      "Index(['Open time', 'Open', 'High', 'Low', 'Close', 'Volume', 'Close time',\n",
      "       'Quote asset volume', 'Number of trades', 'Taker buy base asset volume',\n",
      "       'Taker buy quote asset volume', 'Ignore'],\n",
      "      dtype='object')\n"
     ]
    }
   ],
   "source": [
    "# Checking column names\n",
    "print(\"\\nColumn Names:\")\n",
    "print(df.columns)\n"
   ]
  },
  {
   "cell_type": "code",
   "execution_count": 14,
   "id": "ecc1c83c",
   "metadata": {},
   "outputs": [
    {
     "name": "stdout",
     "output_type": "stream",
     "text": [
      "\n",
      "Data Types:\n",
      "Open time                        object\n",
      "Open                            float64\n",
      "High                            float64\n",
      "Low                             float64\n",
      "Close                           float64\n",
      "Volume                          float64\n",
      "Close time                       object\n",
      "Quote asset volume              float64\n",
      "Number of trades                  int64\n",
      "Taker buy base asset volume     float64\n",
      "Taker buy quote asset volume    float64\n",
      "Ignore                            int64\n",
      "dtype: object\n"
     ]
    }
   ],
   "source": [
    "# Data types of each column\n",
    "print(\"\\nData Types:\")\n",
    "print(df.dtypes)"
   ]
  },
  {
   "cell_type": "code",
   "execution_count": 15,
   "id": "3514985d",
   "metadata": {},
   "outputs": [
    {
     "name": "stdout",
     "output_type": "stream",
     "text": [
      "\n",
      "Unique Value Counts:\n",
      "Open time                       251565\n",
      "Open                            234323\n",
      "High                            210668\n",
      "Low                             212588\n",
      "Close                           233317\n",
      "Volume                          251458\n",
      "Close time                      251565\n",
      "Quote asset volume              251552\n",
      "Number of trades                 60651\n",
      "Taker buy base asset volume     251338\n",
      "Taker buy quote asset volume    251552\n",
      "Ignore                               1\n",
      "dtype: int64\n"
     ]
    }
   ],
   "source": [
    "# Count unique values in each column\n",
    "print(\"\\nUnique Value Counts:\")\n",
    "print(df.nunique())"
   ]
  }
 ],
 "metadata": {
  "kernelspec": {
   "display_name": "Python 3",
   "language": "python",
   "name": "python3"
  },
  "language_info": {
   "codemirror_mode": {
    "name": "ipython",
    "version": 3
   },
   "file_extension": ".py",
   "mimetype": "text/x-python",
   "name": "python",
   "nbconvert_exporter": "python",
   "pygments_lexer": "ipython3",
   "version": "3.12.2"
  }
 },
 "nbformat": 4,
 "nbformat_minor": 5
}
